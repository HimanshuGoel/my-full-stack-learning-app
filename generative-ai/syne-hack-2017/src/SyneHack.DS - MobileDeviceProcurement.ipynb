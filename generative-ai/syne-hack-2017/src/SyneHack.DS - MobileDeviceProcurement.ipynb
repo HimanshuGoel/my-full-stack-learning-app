{
 "cells": [
  {
   "cell_type": "markdown",
   "metadata": {},
   "source": [
    "## MobileDeviceProcurement - Importing Data"
   ]
  },
  {
   "cell_type": "code",
   "execution_count": 50,
   "metadata": {
    "collapsed": true
   },
   "outputs": [],
   "source": [
    "import pandas as pd\n",
    "xl = pd.ExcelFile(\"./data/TrainData.xlsx\")\n",
    "xl.sheet_names\n",
    "df = xl.parse(\"Sheet1\")"
   ]
  },
  {
   "cell_type": "markdown",
   "metadata": {},
   "source": [
    "## MobileDeviceProcurement - Viewing the Data"
   ]
  },
  {
   "cell_type": "code",
   "execution_count": 51,
   "metadata": {
    "collapsed": true
   },
   "outputs": [],
   "source": [
    "df.columns = ['ID', 'LatestDevPurchased', 'FirstDevPurchased', 'TotDaysActive', 'LatestDeviceActive', 'IsApple', 'SwitchedAppleToNon', 'SwitchedBetweenApple', 'Enrolled']\n",
    "#df.tail()\n",
    "#df.describe()\n",
    "#df.info()\n",
    "#df.shape\n",
    "#df.IsApple.value_counts()\n",
    "#df.isnull().values.any()"
   ]
  },
  {
   "cell_type": "markdown",
   "metadata": {},
   "source": [
    "## MobileDeviceProcurement - Molding the Column values"
   ]
  },
  {
   "cell_type": "code",
   "execution_count": 52,
   "metadata": {
    "collapsed": true
   },
   "outputs": [],
   "source": [
    "Enrolled_Map = {'N': 0, 'Y': 1}\n",
    "IsApple_Map = {'NON-APPLE': 0, 'APPLE': 1}\n",
    "\n",
    "df['Enrolled'] = df['Enrolled'].map(Enrolled_Map)\n",
    "df['IsApple'] = df['IsApple'].map(IsApple_Map)"
   ]
  },
  {
   "cell_type": "code",
   "execution_count": 53,
   "metadata": {},
   "outputs": [
    {
     "data": {
      "text/plain": [
       "[160    0\n",
       " 161    1\n",
       " 162    0\n",
       " 163    0\n",
       " 164    0\n",
       " Name: Enrolled, dtype: int64, 5    0\n",
       " 6    1\n",
       " 7    0\n",
       " 8    0\n",
       " 9    1\n",
       " Name: IsApple, dtype: int64]"
      ]
     },
     "execution_count": 53,
     "metadata": {},
     "output_type": "execute_result"
    }
   ],
   "source": [
    "[df['Enrolled'][160:165], df['IsApple'][5:10]]"
   ]
  },
  {
   "cell_type": "markdown",
   "metadata": {},
   "source": [
    "## MobileDeviceProcurement - Removing 'Days' from columns\n"
   ]
  },
  {
   "cell_type": "code",
   "execution_count": 54,
   "metadata": {
    "scrolled": true
   },
   "outputs": [
    {
     "data": {
      "text/html": [
       "<div>\n",
       "<style>\n",
       "    .dataframe thead tr:only-child th {\n",
       "        text-align: right;\n",
       "    }\n",
       "\n",
       "    .dataframe thead th {\n",
       "        text-align: left;\n",
       "    }\n",
       "\n",
       "    .dataframe tbody tr th {\n",
       "        vertical-align: top;\n",
       "    }\n",
       "</style>\n",
       "<table border=\"1\" class=\"dataframe\">\n",
       "  <thead>\n",
       "    <tr style=\"text-align: right;\">\n",
       "      <th></th>\n",
       "      <th>ID</th>\n",
       "      <th>LatestDevPurchased</th>\n",
       "      <th>FirstDevPurchased</th>\n",
       "      <th>TotDaysActive</th>\n",
       "      <th>LatestDeviceActive</th>\n",
       "      <th>IsApple</th>\n",
       "      <th>SwitchedAppleToNon</th>\n",
       "      <th>SwitchedBetweenApple</th>\n",
       "      <th>Enrolled</th>\n",
       "    </tr>\n",
       "  </thead>\n",
       "  <tbody>\n",
       "    <tr>\n",
       "      <th>0</th>\n",
       "      <td>10001</td>\n",
       "      <td>2017-07-18</td>\n",
       "      <td>2014-05-07</td>\n",
       "      <td>1168</td>\n",
       "      <td>0</td>\n",
       "      <td>0</td>\n",
       "      <td>1</td>\n",
       "      <td>0</td>\n",
       "      <td>0</td>\n",
       "    </tr>\n",
       "    <tr>\n",
       "      <th>1</th>\n",
       "      <td>10002</td>\n",
       "      <td>2017-05-09</td>\n",
       "      <td>2014-07-03</td>\n",
       "      <td>1111</td>\n",
       "      <td>70</td>\n",
       "      <td>0</td>\n",
       "      <td>1</td>\n",
       "      <td>0</td>\n",
       "      <td>0</td>\n",
       "    </tr>\n",
       "    <tr>\n",
       "      <th>2</th>\n",
       "      <td>10003</td>\n",
       "      <td>2017-07-18</td>\n",
       "      <td>2014-08-15</td>\n",
       "      <td>1068</td>\n",
       "      <td>0</td>\n",
       "      <td>0</td>\n",
       "      <td>1</td>\n",
       "      <td>0</td>\n",
       "      <td>0</td>\n",
       "    </tr>\n",
       "    <tr>\n",
       "      <th>3</th>\n",
       "      <td>10007</td>\n",
       "      <td>2016-07-07</td>\n",
       "      <td>2013-06-29</td>\n",
       "      <td>1480</td>\n",
       "      <td>376</td>\n",
       "      <td>0</td>\n",
       "      <td>1</td>\n",
       "      <td>0</td>\n",
       "      <td>0</td>\n",
       "    </tr>\n",
       "    <tr>\n",
       "      <th>4</th>\n",
       "      <td>10008</td>\n",
       "      <td>2016-07-07</td>\n",
       "      <td>2013-05-20</td>\n",
       "      <td>1520</td>\n",
       "      <td>376</td>\n",
       "      <td>0</td>\n",
       "      <td>1</td>\n",
       "      <td>0</td>\n",
       "      <td>0</td>\n",
       "    </tr>\n",
       "  </tbody>\n",
       "</table>\n",
       "</div>"
      ],
      "text/plain": [
       "      ID LatestDevPurchased FirstDevPurchased  TotDaysActive  \\\n",
       "0  10001         2017-07-18        2014-05-07           1168   \n",
       "1  10002         2017-05-09        2014-07-03           1111   \n",
       "2  10003         2017-07-18        2014-08-15           1068   \n",
       "3  10007         2016-07-07        2013-06-29           1480   \n",
       "4  10008         2016-07-07        2013-05-20           1520   \n",
       "\n",
       "   LatestDeviceActive  IsApple  SwitchedAppleToNon  SwitchedBetweenApple  \\\n",
       "0                   0        0                   1                     0   \n",
       "1                  70        0                   1                     0   \n",
       "2                   0        0                   1                     0   \n",
       "3                 376        0                   1                     0   \n",
       "4                 376        0                   1                     0   \n",
       "\n",
       "   Enrolled  \n",
       "0         0  \n",
       "1         0  \n",
       "2         0  \n",
       "3         0  \n",
       "4         0  "
      ]
     },
     "execution_count": 54,
     "metadata": {},
     "output_type": "execute_result"
    }
   ],
   "source": [
    "df['TotDaysActive'] = pd.to_numeric(df['TotDaysActive'].str.replace('Days', ''))\n",
    "df['LatestDeviceActive'] = pd.to_numeric(df['LatestDeviceActive'].str.replace('Days', ''))\n",
    "\n",
    "df.head()"
   ]
  },
  {
   "cell_type": "markdown",
   "metadata": {},
   "source": [
    "## MobileDeviceProcurement - Viewing the Correlation"
   ]
  },
  {
   "cell_type": "code",
   "execution_count": 55,
   "metadata": {},
   "outputs": [
    {
     "data": {
      "image/png": "[encoded data removed]",
      "text/plain": [
       "<matplotlib.figure.Figure at 0x280e4066208>"
      ]
     },
     "metadata": {},
     "output_type": "display_data"
    }
   ],
   "source": [
    "import matplotlib.pyplot as plt\n",
    "\n",
    "%matplotlib inline\n",
    "\n",
    "def plot_corr(df, size=7):\n",
    "    corr = df.corr()\n",
    "    fig, ax = plt.subplots(figsize=(size, size))\n",
    "    ax.matshow(corr)\n",
    "    plt.xticks(range(len(corr.columns)), corr.columns)\n",
    "    plt.yticks(range(len(corr.columns)), corr.columns)\n",
    "    \n",
    "plot_corr(df, 7)"
   ]
  },
  {
   "cell_type": "markdown",
   "metadata": {},
   "source": [
    "## MobileDeviceProcurement - Checking Enrolled Column - True/False ratio"
   ]
  },
  {
   "cell_type": "code",
   "execution_count": 56,
   "metadata": {},
   "outputs": [
    {
     "name": "stdout",
     "output_type": "stream",
     "text": [
      "Number of True cases: 372 (1.86%)\n",
      "Number of False cases: 19630 (98.14%)\n"
     ]
    }
   ],
   "source": [
    "total_values = len(df)\n",
    "total_true = len(df.loc[df.Enrolled == 1])\n",
    "total_false = len(df.loc[df.Enrolled == 0])\n",
    "\n",
    "print('Number of True cases: {0} ({1:2.2f}%)'.format(total_true, (total_true/total_values)*100))\n",
    "print('Number of False cases: {0} ({1:2.2f}%)'.format(total_false, (total_false/total_values)*100))\n"
   ]
  },
  {
   "cell_type": "markdown",
   "metadata": {},
   "source": [
    "## MobileDeviceProcurement - Splitting the Data - 70% - 30%"
   ]
  },
  {
   "cell_type": "code",
   "execution_count": 57,
   "metadata": {},
   "outputs": [
    {
     "name": "stdout",
     "output_type": "stream",
     "text": [
      "70.00% in training set\n",
      "30.00% in test set\n"
     ]
    }
   ],
   "source": [
    "from sklearn.cross_validation import train_test_split\n",
    "\n",
    "feature_col_names = ['ID', 'TotDaysActive', 'LatestDeviceActive', 'IsApple', 'SwitchedAppleToNon', 'SwitchedBetweenApple']\n",
    "predictied_col_names = ['Enrolled']\n",
    "\n",
    "x = df[feature_col_names].values\n",
    "y = df[predictied_col_names].values\n",
    "\n",
    "split_test_size = 0.30\n",
    "\n",
    "x_train, x_test, y_train, y_test = train_test_split(x, y, test_size=split_test_size, random_state=42)\n",
    "\n",
    "print(\"{0:0.2f}% in training set\".format((len(x_train)/len(df.ID))*100))\n",
    "print(\"{0:0.2f}% in test set\".format((len(x_test)/len(df.ID))*100))"
   ]
  },
  {
   "cell_type": "markdown",
   "metadata": {},
   "source": [
    "## MobileDeviceProcurement - Training with Algorithm - Naive Bayes"
   ]
  },
  {
   "cell_type": "code",
   "execution_count": 58,
   "metadata": {},
   "outputs": [
    {
     "data": {
      "text/plain": [
       "GaussianNB(priors=None)"
      ]
     },
     "execution_count": 58,
     "metadata": {},
     "output_type": "execute_result"
    }
   ],
   "source": [
    "from sklearn.naive_bayes import GaussianNB\n",
    "nb_model = GaussianNB()\n",
    "\n",
    "nb_model.fit(x_train, y_train.ravel())"
   ]
  },
  {
   "cell_type": "markdown",
   "metadata": {},
   "source": [
    "## MobileDeviceProcurement - Checking performance on Training Data"
   ]
  },
  {
   "cell_type": "code",
   "execution_count": 59,
   "metadata": {},
   "outputs": [
    {
     "name": "stdout",
     "output_type": "stream",
     "text": [
      "Accuracy: 0.9768\n"
     ]
    }
   ],
   "source": [
    "nb_predict_train = nb_model.predict(x_train)\n",
    "\n",
    "from sklearn import metrics\n",
    "\n",
    "print('Accuracy: {0:.4f}'.format(metrics.accuracy_score(y_train, nb_predict_train)))"
   ]
  },
  {
   "cell_type": "markdown",
   "metadata": {},
   "source": [
    "## MobileDeviceProcurement - Checking performance on Test Data"
   ]
  },
  {
   "cell_type": "code",
   "execution_count": 60,
   "metadata": {
    "scrolled": true
   },
   "outputs": [
    {
     "name": "stdout",
     "output_type": "stream",
     "text": [
      "Accuracy: 0.9748\n"
     ]
    }
   ],
   "source": [
    "nb_predict_test = nb_model.predict(x_test)\n",
    "\n",
    "from sklearn import metrics\n",
    "\n",
    "print('Accuracy: {0:.4f}'.format(metrics.accuracy_score(y_test, nb_predict_test)))"
   ]
  },
  {
   "cell_type": "markdown",
   "metadata": {},
   "source": [
    "## MobileDeviceProcurement - Viewing Consusion and Classification Matrix"
   ]
  },
  {
   "cell_type": "code",
   "execution_count": 61,
   "metadata": {},
   "outputs": [
    {
     "name": "stdout",
     "output_type": "stream",
     "text": [
      "Consusion Matrix\n",
      "[[   3  106]\n",
      " [  45 5847]]\n",
      "\n",
      "Classification Report\n",
      "             precision    recall  f1-score   support\n",
      "\n",
      "          1       0.06      0.03      0.04       109\n",
      "          0       0.98      0.99      0.99      5892\n",
      "\n",
      "avg / total       0.97      0.97      0.97      6001\n",
      "\n"
     ]
    }
   ],
   "source": [
    "print('Consusion Matrix') #clockwise values - TP, FP, TN, FN\n",
    "print('{0}'.format(metrics.confusion_matrix(y_test, nb_predict_test, labels=[1,0])))\n",
    "print('')\n",
    "\n",
    "print('Classification Report')\n",
    "print('{0}'.format(metrics.classification_report(y_test, nb_predict_test, labels=[1,0])))\n",
    "\n"
   ]
  },
  {
   "cell_type": "code",
   "execution_count": 62,
   "metadata": {},
   "outputs": [
    {
     "name": "stdout",
     "output_type": "stream",
     "text": [
      "[0 0 0 ..., 0 0 0]\n"
     ]
    }
   ],
   "source": [
    "#len(y_test)\n",
    "#print(len(nb_predict_test))\n",
    "print(nb_predict_test)"
   ]
  },
  {
   "cell_type": "markdown",
   "metadata": {},
   "source": [
    "## MobileDeviceProcurement - Training with Algorithm - Random Forest"
   ]
  },
  {
   "cell_type": "code",
   "execution_count": 63,
   "metadata": {},
   "outputs": [
    {
     "data": {
      "text/plain": [
       "RandomForestClassifier(bootstrap=True, class_weight=None, criterion='gini',\n",
       "            max_depth=None, max_features='auto', max_leaf_nodes=None,\n",
       "            min_impurity_split=1e-07, min_samples_leaf=1,\n",
       "            min_samples_split=2, min_weight_fraction_leaf=0.0,\n",
       "            n_estimators=10, n_jobs=1, oob_score=False, random_state=42,\n",
       "            verbose=0, warm_start=False)"
      ]
     },
     "execution_count": 63,
     "metadata": {},
     "output_type": "execute_result"
    }
   ],
   "source": [
    "from sklearn.ensemble import RandomForestClassifier\n",
    "rf_model = RandomForestClassifier(random_state=42)\n",
    "rf_model.fit(x_train, y_train.ravel())"
   ]
  },
  {
   "cell_type": "markdown",
   "metadata": {},
   "source": [
    "## MobileDeviceProcurement - Checking performance on Train and Test Data"
   ]
  },
  {
   "cell_type": "code",
   "execution_count": 64,
   "metadata": {},
   "outputs": [
    {
     "name": "stdout",
     "output_type": "stream",
     "text": [
      "Train Data Accuracy: 0.9961\n",
      "Test Data Accuracy: 0.9797\n"
     ]
    }
   ],
   "source": [
    "rf_predict_train = rf_model.predict(x_train)\n",
    "\n",
    "print('Train Data Accuracy: {0:.4f}'.format(metrics.accuracy_score(y_train, rf_predict_train)))\n",
    "\n",
    "rf_predict_test = rf_model.predict(x_test)\n",
    "\n",
    "print('Test Data Accuracy: {0:.4f}'.format(metrics.accuracy_score(y_test, rf_predict_test)))"
   ]
  },
  {
   "cell_type": "markdown",
   "metadata": {},
   "source": [
    "## MobileDeviceProcurement - Viewing Consusion and Classification Matrix"
   ]
  },
  {
   "cell_type": "code",
   "execution_count": 65,
   "metadata": {},
   "outputs": [
    {
     "name": "stdout",
     "output_type": "stream",
     "text": [
      "Consusion Matrix\n",
      "[[   2  107]\n",
      " [  15 5877]]\n",
      "\n",
      "Classification Report\n",
      "             precision    recall  f1-score   support\n",
      "\n",
      "          1       0.12      0.02      0.03       109\n",
      "          0       0.98      1.00      0.99      5892\n",
      "\n",
      "avg / total       0.97      0.98      0.97      6001\n",
      "\n"
     ]
    }
   ],
   "source": [
    "print('Consusion Matrix') #clockwise values - TP, FP, TN, FN\n",
    "print('{0}'.format(metrics.confusion_matrix(y_test, rf_predict_test, labels=[1,0])))\n",
    "print('')\n",
    "\n",
    "print('Classification Report')\n",
    "print('{0}'.format(metrics.classification_report(y_test, rf_predict_test, labels=[1,0])))"
   ]
  },
  {
   "cell_type": "markdown",
   "metadata": {},
   "source": [
    "## MobileDeviceProcurement - Training with Algorithm - Logistic Regression"
   ]
  },
  {
   "cell_type": "code",
   "execution_count": 66,
   "metadata": {},
   "outputs": [
    {
     "name": "stdout",
     "output_type": "stream",
     "text": [
      "Train Data Accuracy: 0.7739\n",
      "Test Data Accuracy: 0.7734\n",
      "Consusion Matrix\n",
      "[[ 104    5]\n",
      " [1355 4537]]\n",
      "\n",
      "Classification Report\n",
      "             precision    recall  f1-score   support\n",
      "\n",
      "          1       0.07      0.95      0.13       109\n",
      "          0       1.00      0.77      0.87      5892\n",
      "\n",
      "avg / total       0.98      0.77      0.86      6001\n",
      "\n"
     ]
    }
   ],
   "source": [
    "from sklearn.linear_model import LogisticRegression\n",
    "lr_model = LogisticRegression(C=0.1, class_weight=\"balanced\", random_state=42) #C - Regularization Parameter, class_weight - hyperpameter\n",
    "lr_model.fit(x_train, y_train.ravel())\n",
    "\n",
    "lr_predict_train = lr_model.predict(x_train)\n",
    "lr_predict_test = lr_model.predict(x_test)\n",
    "\n",
    "print('Train Data Accuracy: {0:.4f}'.format(metrics.accuracy_score(y_train, lr_predict_train)))\n",
    "print('Test Data Accuracy: {0:.4f}'.format(metrics.accuracy_score(y_test, lr_predict_test)))\n",
    "\n",
    "print('Consusion Matrix') #clockwise values - TP, FP, TN, FN\n",
    "print('{0}'.format(metrics.confusion_matrix(y_test, lr_predict_test, labels=[1,0])))\n",
    "print('')\n",
    "\n",
    "print('Classification Report')\n",
    "print('{0}'.format(metrics.classification_report(y_test, lr_predict_test, labels=[1,0])))"
   ]
  },
  {
   "cell_type": "markdown",
   "metadata": {},
   "source": [
    "## MobileDeviceProcurement - Finding out best Regularization Parameter for maximum Recall value"
   ]
  },
  {
   "cell_type": "code",
   "execution_count": 67,
   "metadata": {},
   "outputs": [
    {
     "name": "stdout",
     "output_type": "stream",
     "text": [
      "1st max value of 0.954 occured at C=0.100000\n"
     ]
    },
    {
     "data": {
      "text/plain": [
       "<matplotlib.text.Text at 0x280e48cda90>"
      ]
     },
     "execution_count": 67,
     "metadata": {},
     "output_type": "execute_result"
    },
    {
     "data": {
      "image/png": "[encoded data removed]",
      "text/plain": [
       "<matplotlib.figure.Figure at 0x280e3d955f8>"
      ]
     },
     "metadata": {},
     "output_type": "display_data"
    }
   ],
   "source": [
    "C_start = 0.1\n",
    "C_end = 5.0\n",
    "C_inc = 0.1\n",
    "\n",
    "C_values, recall_scores = [], []\n",
    "\n",
    "C_val = C_start\n",
    "best_recall_score = 0\n",
    "while(C_val < C_end):\n",
    "    C_values.append(C_val)\n",
    "    lr_model_loop = LogisticRegression(C=C_val, class_weight=\"balanced\", random_state=42)\n",
    "    lr_model_loop.fit(x_train, y_train.ravel())\n",
    "    lr_predict_loop_test = lr_model_loop.predict(x_test)\n",
    "    recall_score = metrics.recall_score(y_test, lr_predict_loop_test)\n",
    "    recall_scores.append(recall_score)\n",
    "    if(recall_score > best_recall_score):\n",
    "        best_recall_score = recall_score\n",
    "        best_lr_predict_test = lr_predict_loop_test\n",
    "    C_val = C_val + C_inc\n",
    "\n",
    "best_score_C_val = C_values[recall_scores.index(best_recall_score)]\n",
    "print(\"1st max value of {0:.3f} occured at C={1:3f}\".format(best_recall_score, best_score_C_val))\n",
    "\n",
    "plt.plot(C_values, recall_scores, \"-\")\n",
    "plt.xlabel('C value')\n",
    "plt.ylabel('recall score')\n"
   ]
  },
  {
   "cell_type": "markdown",
   "metadata": {
    "collapsed": true
   },
   "source": [
    "## MobileDeviceProcurement - Training with Algorithm - Logistic Regression CV"
   ]
  },
  {
   "cell_type": "code",
   "execution_count": 68,
   "metadata": {},
   "outputs": [
    {
     "name": "stdout",
     "output_type": "stream",
     "text": [
      "Train Data Accuracy: 0.7741\n",
      "Test Data Accuracy: 0.7734\n",
      "Consusion Matrix\n",
      "[[ 103    6]\n",
      " [1354 4538]]\n",
      "\n",
      "Classification Report\n",
      "             precision    recall  f1-score   support\n",
      "\n",
      "          1       0.07      0.94      0.13       109\n",
      "          0       1.00      0.77      0.87      5892\n",
      "\n",
      "avg / total       0.98      0.77      0.86      6001\n",
      "\n"
     ]
    }
   ],
   "source": [
    "from sklearn.linear_model import LogisticRegressionCV\n",
    "lr_cv_model = LogisticRegressionCV(n_jobs=-1, Cs = 3, cv=10, refit=True, class_weight=\"balanced\", random_state=42) #C - Regularization Parameter, class_weight - hyperpameter\n",
    "lr_cv_model.fit(x_train, y_train.ravel())\n",
    "\n",
    "lr_cv_predict_train = lr_cv_model.predict(x_train)\n",
    "lr_cv_predict_test = lr_cv_model.predict(x_test)\n",
    "\n",
    "print('Train Data Accuracy: {0:.4f}'.format(metrics.accuracy_score(y_train, lr_cv_predict_train)))\n",
    "print('Test Data Accuracy: {0:.4f}'.format(metrics.accuracy_score(y_test, lr_cv_predict_test)))\n",
    "\n",
    "print('Consusion Matrix') #clockwise values - TP, FP, TN, FN\n",
    "print('{0}'.format(metrics.confusion_matrix(y_test, lr_cv_predict_test, labels=[1,0])))\n",
    "print('')\n",
    "\n",
    "print('Classification Report')\n",
    "print('{0}'.format(metrics.classification_report(y_test, lr_cv_predict_test, labels=[1,0])))"
   ]
  },
  {
   "cell_type": "markdown",
   "metadata": {
    "collapsed": true
   },
   "source": [
    "## MobileDeviceProcurement - Predicting Test Data with Logistic Regression"
   ]
  },
  {
   "cell_type": "code",
   "execution_count": 69,
   "metadata": {},
   "outputs": [
    {
     "name": "stdout",
     "output_type": "stream",
     "text": [
      "[0 0 1 ..., 0 0 0]\n"
     ]
    }
   ],
   "source": [
    "#importing TestData.xlsx\n",
    "xl_test = pd.ExcelFile(\"./data/TestData.xlsx\")\n",
    "xl_test.sheet_names\n",
    "df_test = xl_test.parse(\"Sheet1\")\n",
    "\n",
    "#molding columns value\n",
    "df_test.columns = ['ID', 'LatestDevPurchased', 'FirstDevPurchased', 'TotDaysActive', 'LatestDeviceActive', 'IsApple', 'SwitchedAppleToNon', 'SwitchedBetweenApple', 'Enrolled']\n",
    "IsApple_Map = {'NON-APPLE': 0, 'APPLE': 1}\n",
    "\n",
    "df_test['IsApple'] = df_test['IsApple'].map(IsApple_Map)\n",
    "df_test['TotDaysActive'] = pd.to_numeric(df_test['TotDaysActive'].str.replace('Days', ''))\n",
    "df_test['LatestDeviceActive'] = pd.to_numeric(df_test['LatestDeviceActive'].str.replace('Days', ''))\n",
    "\n",
    "#predicting output\n",
    "x_test = df_test[feature_col_names].values\n",
    "lr_predict_test = lr_model.predict(x_test)\n",
    "\n",
    "print(lr_predict_test)"
   ]
  },
  {
   "cell_type": "code",
   "execution_count": null,
   "metadata": {
    "collapsed": true
   },
   "outputs": [],
   "source": []
  }
 ],
 "metadata": {
  "anaconda-cloud": {},
  "kernelspec": {
   "display_name": "Python 3",
   "language": "python",
   "name": "python3"
  },
  "language_info": {
   "codemirror_mode": {
    "name": "ipython",
    "version": 3
   },
   "file_extension": ".py",
   "mimetype": "text/x-python",
   "name": "python",
   "nbconvert_exporter": "python",
   "pygments_lexer": "ipython3",
   "version": "3.6.1"
  }
 },
 "nbformat": 4,
 "nbformat_minor": 1
}
